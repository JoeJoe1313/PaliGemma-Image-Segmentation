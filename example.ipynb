{
 "cells": [
  {
   "cell_type": "code",
   "execution_count": 1,
   "id": "94056b45",
   "metadata": {},
   "outputs": [],
   "source": [
    "import base64\n",
    "import os\n",
    "from io import BytesIO\n",
    "\n",
    "import matplotlib.pyplot as plt\n",
    "import requests\n",
    "from PIL import Image"
   ]
  },
  {
   "cell_type": "code",
   "execution_count": 2,
   "id": "693b0bcf",
   "metadata": {},
   "outputs": [],
   "source": [
    "main_url = \"http://localhost:8000\""
   ]
  },
  {
   "cell_type": "code",
   "execution_count": 3,
   "id": "cbc8e911",
   "metadata": {},
   "outputs": [
    {
     "data": {
      "text/plain": [
       "{'message': 'Welcome to the PaliGemma Segmentation API!',\n",
       " 'model': 'google/paligemma2-3b-mix-448'}"
      ]
     },
     "execution_count": 3,
     "metadata": {},
     "output_type": "execute_result"
    }
   ],
   "source": [
    "resp_get = requests.get(main_url)\n",
    "resp_get.json()"
   ]
  },
  {
   "cell_type": "code",
   "execution_count": 4,
   "id": "46bc237b",
   "metadata": {},
   "outputs": [
    {
     "data": {
      "text/plain": [
       "{'message': [{'mask': 'iVBORw0KGgoAAAANSUhEUgAAAEAAAABACAAAAACPAi4CAAAF5klEQVR4nG1XW2tdRRT+1px9zmluTcxRm1ZbY5t612LTovhQbSUqiiiIIooUhFLwzQdBq/gDFF/Fl+INwXtBEBXF1vSiohExRkTTS9oUU3uR5npy9pn5fJjZM7P3OfOQM3tn1rfWrO+bNWsL/BBRpChSCCWVju7e3trKWm+ttyOdmfrrrzOzAIR+Ne2DRAAKAhFCSc+6mzdcveqSSzrLFVYTQKezZ8YOHJxZRrScRQAoVS0lie66bGjHrVd1l0tUAEUoAGgw//foJxMXISBinGhaXn3T4MqevtoV6/qrKIFig3S/AtM4/dVbvzVy9hGAVIYf2TaQVFWFpUSEFAgFzpgQAFyYee+dE6YYhQO46d3ppbTRbOqm1toYrY0fNDSkMaSe/XR7pdUYAFbumW4YaqONLgCQFoCGJJfHd/W0s5c7v6sbY7TWxlpGARhDknQTPfVSfxuAS1+9YGiM0UYbXTB3CNlM//NyK4I8MJ5av7poa8O3O7DZMNPPh10oy8P6j+p05rroOkNwiTBkOr276l0LAHTvOadZ9OzcR1tw26DRvz1YipQg5QcmWgLP2WchkI7UdPSOUpSAwQ/rxvg0tYOx/kmPWP94SAGAAoDKyLayCNrKK/cDv0Yq9+zqyd7Khm9TuhFy14YGhhhIPfVo2UVQ2rE5Yc6pSC4Ygozmjr41T1/lAAYe6oTdgDs39uiIJ0lEBLQ4LmwSybb7qhZgy5bE2tDju2OcG/5ZIBAAlZF+gQK67+9HVqwkJC1sIw8kQhdNafgGgUJp6M7EvbHHPoseApGieUiUiPRvLUNBblsTdi/0RBG26NEm0U7FTiAAiRWbVkBJ15aqivYZl13nnbYsgjYeBwWAV9eg5Mqbs8SKy45ky0kw5MUai+XFvlh7BZS67krFbOM5+unWeu5CUoU2mT2DKqle258xz5Cx3DSDFdgym2VH0HFtomrDSc6GiOmEOF4KOaI9OurGrmRoKEG2KSsjy4Z7YVkPLpya3K+5ZpUaGUSBa0ICG8wrkkLCXWsCqtpmdVfV3XD0wdJSD+Z2BZtRl0WrMenbpgYT70AYqzdTfKZKx38Ur1CSraoLtD6tCiTTDmhVEPxHDHk0GVBBhbkRNu41EFNLp1PVoRahAmvxifdvbF1g2I/PlpBKHdUm1pjfp+fOzujTG/9XpKm+OJOGMuWBhJJl0R6hSA6ZHknAnFXffJ9mO/DRZ4+hOklU4KK6yMYR9cfnJ7RPNCN7R6XYgkgGLEDsUqbTX6v50Z+1F24UJhGnM65MQRhsfDmqmmd/rXuBBZ5EgMxvpk14+q2eVXro7bMKS0emdMsxlpy33GGhZCE0J/aONxV4ctIgGrQe6Y8B84VG6Oqnmd77RYMKmPspjTkCSAnFlZSgSx8dIWbxk30LhBIu/XLOufPyYEacIC6BEh1O0zzw5gwABeHff6IwCsLxdSYkmubo638CgCJx9lA9LhzZj8QsijsMELuOF/YeMoS9G+sHT1F8GROfN0YQWRwAhCKy8MH78+EK6XttPtcfRF1Am2FoTOPzTVGPpNT2CRMB2G6K+b4iWNOY5dF7q7FEpHfPhWboS6yTgnnW7Bpj9NJPT3QXruyhd+Zc++VgWIw/POv64ad6SsgDlG/7bDHfIuVtA6hpzu1/bGWRd6C043CahcgWhBCCSf99/+4eaQVA50NjS6FDixPg+0OSZvnYK9cnRVur0M4nf6/bLj2QmQvAkGZu/87LI31JTildu08s+/VtR3ryjc2dgbz8SQHQ98yxZd3Cu0fUswcer4XsS/4PAEjPc6cbrif3fXmGoBfHXrihze7zo/biVF0bT0Vo9Ovnv3n2lmq75OcxSpe/MFnPfd7Q0Oj6qX07N7begSItEYhavfvI+TQCMGnzv/E3HhxI2veLngZ/V6muTQ+PbCjb9ZS0ee7ng99OLrQzjtuf6EtUqUuH77p9bW8lMVy6ePyHH8cu1AsXD+JH930s4UYVqfSt37huVUdz7uTxyZl5o7PlyuS/AiBU5n8S4aoJxw4NsQAAAABJRU5ErkJggg==',\n",
       "   'coordinates': [62, 254, 140, 348]}]}"
      ]
     },
     "execution_count": 4,
     "metadata": {},
     "output_type": "execute_result"
    }
   ],
   "source": [
    "segm_url = os.path.join(main_url, \"segment\")\n",
    "data = {\n",
    "    'prompt': 'segment left wheel',\n",
    "    'image_url': \"https://huggingface.co/datasets/huggingface/documentation-images/resolve/main/transformers/tasks/car.jpg\"\n",
    "}\n",
    "resp_post = requests.post(segm_url, data=data)\n",
    "resp_post.json()"
   ]
  },
  {
   "cell_type": "code",
   "execution_count": 5,
   "id": "773b9068",
   "metadata": {},
   "outputs": [
    {
     "data": {
      "text/plain": [
       "{'message': [{'mask': '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',\n",
       "   'coordinates': [62, 254, 140, 348]}]}"
      ]
     },
     "execution_count": 5,
     "metadata": {},
     "output_type": "execute_result"
    }
   ],
   "source": [
    "my_resp = resp_post.json()\n",
    "my_resp"
   ]
  },
  {
   "cell_type": "code",
   "execution_count": 6,
   "id": "1bca5e41",
   "metadata": {},
   "outputs": [],
   "source": [
    "mask_base54 = my_resp[\"message\"][0][\"mask\"]\n",
    "image_data = base64.b64decode(mask_base54)"
   ]
  },
  {
   "cell_type": "code",
   "execution_count": 7,
   "id": "fae0f1ca",
   "metadata": {},
   "outputs": [
    {
     "data": {
      "text/plain": [
       "<matplotlib.image.AxesImage at 0x106cafed0>"
      ]
     },
     "execution_count": 7,
     "metadata": {},
     "output_type": "execute_result"
    },
    {
     "data": {
      "image/png": "[encoded data removed]",
      "text/plain": [
       "<Figure size 640x480 with 1 Axes>"
      ]
     },
     "metadata": {},
     "output_type": "display_data"
    }
   ],
   "source": [
    "image = Image.open(BytesIO(image_data))\n",
    "plt.imshow(image)"
   ]
  },
  {
   "cell_type": "code",
   "execution_count": 8,
   "id": "0ce14f12",
   "metadata": {},
   "outputs": [
    {
     "name": "stdout",
     "output_type": "stream",
     "text": [
      "{'message': [{'mask': 'iVBORw0KGgoAAAANSUhEUgAAAEAAAABACAAAAACPAi4CAAAFmUlEQVR4nJ1XW48UxxX+vuqavQwbwBgHEcc3iQdk5SWW5fgNKVFeEkXKH80ryg3HOLHZYAyGhV3HzmIzC17GsLPD7O5curvOl4fq21x2I9wataq7z+U7X5065wy9OcEgLLpa59794A11t7aeDlNoRoYC4bwhAMfow9qX3/+F777RXh/TFnwXgocBPEYfwGuXX0/Ovdoep7uadSMApBd1nH8Qy2fbfsmvuMPR+PliCB5INBtdbSE5tZQkiX/r1za8c2BqQC2W9MvBgSFggX3KrZ5eAcDk51f2Bl8PmzLRGL2/uLq2Ysl+v3ekeS7YWnYU4ZbevrI36hyJir6LuOlX/e/e+tnpJDvaebD1cKAwHSB5uu0IgcnSpd9ObjwZmAx0EkE5rbRXVvwf3jnf8i4M9x/duv5gN59G4NstTwCEP3/5qPXVk/44mDPRu2T51JmzP/Gp/9Wak1Nr+eyb7//+82tfdEZTBpaZC6Ig93qqn/aeDfMkrDrfWjp3+pUzbd/b8aseIgG4pbW3f3P/4398NxwBFJzUWntlzRMQAecvvHepn44Srq35peVW4r1j/nTJ++CgKJScal/88I/XPn3wLBhlcO7CxXYCxpRAe/nCJJm0vGspAeConJNVZl4Ay1wSskHny3sbj17k8qfe+fDKL8/7klJBgUrgRIAiZPmzTQbW6hQAWb7/dHN3MGiduXT5zTXPxrYIqB+pLP3uNs1cbaHcPhspm4RkdSVxTqwTTxSNcQUG623cpBXnEsUtGofRBF/nbulD1YoKg431dQ9ApTbLXBQckkhtId3AV+Kxg28/ubZdh1guIuS4t5W3Wp9ivIfJ9kd/+erANcJXbb0E3OCGpb4AgJZ/v/7XrQPzpUMArLaci0pEjKgQUhjeu3b/IDhX0jslqwrPzNWA+8Otu/tBwTdYKa3E3WDMl2n1KAfA0u2b3YyAM6vi5rQNTnmMDko56Gh7ZwKQDq4px5hrEhkrzhTyRlLY6HFPAOgaqYlZsUZizVzU+IcMMWFm9QGAnHk321OAcR4RuhmWykWxD2UInLbHmL2Q5KeVi5oJKlJWpv0MAsHRQAFyc5U4+m62m4WBeB8jdTZDEGMmNnVL/2wQ7rJRdORm+Zl6nM/P6n06CQQIR85uUhE3Car2yuYBETAYgHSC49weNbibO6rVkx2O4k55S4r8bJ58NvTQ+Now8GJsggAX61khyen8n7NT6/c7eyYBdJF0kiyDqWv8cV1fYXR//SB+LhpPI9UEUguYaZARBv+5ujEUQcmLRZlrkKYyIxfMPlLIt+9cXe9ahOhVtMYIgCVyat4CBVjod27d+LwzNipWnVAjKLxX1WWGPUE23nv475t3n6aBKGq+L499WYMKw4XOVF/LB49v/+ve7vOgorwKgI/eVJbcgop4/ur9IC0cfPvR9QfdSTEwVtlWtbrS32L2bbz796t3duuRlkXN9LHbld1EThEAy7hA0XLrfva3f+6kajbnImusDKZ8DRjLtkgAMAx2b1//9FFqjTGvFrGiM6toDQwEHEIBy7K0t3335t3Ho/mT3kCAylmAAQRzFyxPR/1nO/99+E1nPyyctQvKa6KYpc87edZyI/bt+XB/r7s36I+GuR17KoCquRKAZY9ufPb4kJiEXj5KU59aIgYtyOjKu6+OkSR1P/7TxjA3mmiiMsK0uMtGr4insWTFss6NjReBUlGai9+JfyiqviAIeff+oUnTB6C+n2yAItPv90I4XnbhVfVGgXDDbNHfhv9roCpko97QpvoHjpl2Gpcv6IrDj80DOFkdcGqMVlnPdEItXWzAoa4+g73sZXQLBKrHuqP+SzmPBoopjQDsSe9HGLBq0FTaG7qT92whApWjX37w9eGPQJAZBIEKo63N9KX14TdfO8OWg9lg88/fTF7ewP8A+q5WHQMvpOkAAAAASUVORK5CYII=', 'coordinates': [0, 17, 384, 393]}]}\n"
     ]
    }
   ],
   "source": [
    "segm_url = os.path.join(main_url, \"segment\")\n",
    "image_path = \"bl_cat.png\"\n",
    "\n",
    "with open(image_path, \"rb\") as image_file:\n",
    "    data = {\n",
    "        \"prompt\": \"segment cat\"\n",
    "    }\n",
    "\n",
    "    files = {\n",
    "        \"image_file\": (os.path.basename(image_path), image_file, \"image/jpeg\")\n",
    "    }\n",
    "    \n",
    "    response = requests.post(segm_url, files=files, data=data)\n",
    "    print(response.json())"
   ]
  },
  {
   "cell_type": "code",
   "execution_count": 9,
   "id": "1d4df4d0",
   "metadata": {},
   "outputs": [],
   "source": [
    "# image_path = \"bl_cat.png\"\n",
    "# with open(image_path, \"rb\") as img_file:\n",
    "#     image_binary = img_file.read()\n",
    "\n",
    "# files = {\n",
    "#     \"image_file\": (\"bl_cat.png\", image_binary, \"image/jpeg\")\n",
    "# }\n",
    "# response = requests.post(segm_url, files=files, data=data)"
   ]
  },
  {
   "cell_type": "code",
   "execution_count": 10,
   "id": "065cce69",
   "metadata": {},
   "outputs": [
    {
     "data": {
      "text/plain": [
       "{'message': [{'mask': 'iVBORw0KGgoAAAANSUhEUgAAAEAAAABACAAAAACPAi4CAAAFmUlEQVR4nJ1XW48UxxX+vuqavQwbwBgHEcc3iQdk5SWW5fgNKVFeEkXKH80ryg3HOLHZYAyGhV3HzmIzC17GsLPD7O5curvOl4fq21x2I9wataq7z+U7X5065wy9OcEgLLpa59794A11t7aeDlNoRoYC4bwhAMfow9qX3/+F777RXh/TFnwXgocBPEYfwGuXX0/Ovdoep7uadSMApBd1nH8Qy2fbfsmvuMPR+PliCB5INBtdbSE5tZQkiX/r1za8c2BqQC2W9MvBgSFggX3KrZ5eAcDk51f2Bl8PmzLRGL2/uLq2Ysl+v3ekeS7YWnYU4ZbevrI36hyJir6LuOlX/e/e+tnpJDvaebD1cKAwHSB5uu0IgcnSpd9ObjwZmAx0EkE5rbRXVvwf3jnf8i4M9x/duv5gN59G4NstTwCEP3/5qPXVk/44mDPRu2T51JmzP/Gp/9Wak1Nr+eyb7//+82tfdEZTBpaZC6Ig93qqn/aeDfMkrDrfWjp3+pUzbd/b8aseIgG4pbW3f3P/4398NxwBFJzUWntlzRMQAecvvHepn44Srq35peVW4r1j/nTJ++CgKJScal/88I/XPn3wLBhlcO7CxXYCxpRAe/nCJJm0vGspAeConJNVZl4Ay1wSskHny3sbj17k8qfe+fDKL8/7klJBgUrgRIAiZPmzTQbW6hQAWb7/dHN3MGiduXT5zTXPxrYIqB+pLP3uNs1cbaHcPhspm4RkdSVxTqwTTxSNcQUG623cpBXnEsUtGofRBF/nbulD1YoKg431dQ9ApTbLXBQckkhtId3AV+Kxg28/ubZdh1guIuS4t5W3Wp9ivIfJ9kd/+erANcJXbb0E3OCGpb4AgJZ/v/7XrQPzpUMArLaci0pEjKgQUhjeu3b/IDhX0jslqwrPzNWA+8Otu/tBwTdYKa3E3WDMl2n1KAfA0u2b3YyAM6vi5rQNTnmMDko56Gh7ZwKQDq4px5hrEhkrzhTyRlLY6HFPAOgaqYlZsUZizVzU+IcMMWFm9QGAnHk321OAcR4RuhmWykWxD2UInLbHmL2Q5KeVi5oJKlJWpv0MAsHRQAFyc5U4+m62m4WBeB8jdTZDEGMmNnVL/2wQ7rJRdORm+Zl6nM/P6n06CQQIR85uUhE3Car2yuYBETAYgHSC49weNbibO6rVkx2O4k55S4r8bJ58NvTQ+Now8GJsggAX61khyen8n7NT6/c7eyYBdJF0kiyDqWv8cV1fYXR//SB+LhpPI9UEUguYaZARBv+5ujEUQcmLRZlrkKYyIxfMPlLIt+9cXe9ahOhVtMYIgCVyat4CBVjod27d+LwzNipWnVAjKLxX1WWGPUE23nv475t3n6aBKGq+L499WYMKw4XOVF/LB49v/+ve7vOgorwKgI/eVJbcgop4/ur9IC0cfPvR9QfdSTEwVtlWtbrS32L2bbz796t3duuRlkXN9LHbld1EThEAy7hA0XLrfva3f+6kajbnImusDKZ8DRjLtkgAMAx2b1//9FFqjTGvFrGiM6toDQwEHEIBy7K0t3335t3Ho/mT3kCAylmAAQRzFyxPR/1nO/99+E1nPyyctQvKa6KYpc87edZyI/bt+XB/r7s36I+GuR17KoCquRKAZY9ufPb4kJiEXj5KU59aIgYtyOjKu6+OkSR1P/7TxjA3mmiiMsK0uMtGr4insWTFss6NjReBUlGai9+JfyiqviAIeff+oUnTB6C+n2yAItPv90I4XnbhVfVGgXDDbNHfhv9roCpko97QpvoHjpl2Gpcv6IrDj80DOFkdcGqMVlnPdEItXWzAoa4+g73sZXQLBKrHuqP+SzmPBoopjQDsSe9HGLBq0FTaG7qT92whApWjX37w9eGPQJAZBIEKo63N9KX14TdfO8OWg9lg88/fTF7ewP8A+q5WHQMvpOkAAAAASUVORK5CYII=',\n",
       "   'coordinates': [0, 17, 384, 393]}]}"
      ]
     },
     "execution_count": 10,
     "metadata": {},
     "output_type": "execute_result"
    }
   ],
   "source": [
    "my_resp = response.json()\n",
    "my_resp"
   ]
  },
  {
   "cell_type": "code",
   "execution_count": 11,
   "id": "1ead64e2",
   "metadata": {},
   "outputs": [],
   "source": [
    "mask_base54 = my_resp[\"message\"][0][\"mask\"]\n",
    "image_data = base64.b64decode(mask_base54)"
   ]
  },
  {
   "cell_type": "code",
   "execution_count": 12,
   "id": "b862879f",
   "metadata": {},
   "outputs": [
    {
     "data": {
      "text/plain": [
       "<matplotlib.image.AxesImage at 0x105ebc450>"
      ]
     },
     "execution_count": 12,
     "metadata": {},
     "output_type": "execute_result"
    },
    {
     "data": {
      "image/png": "[encoded data removed]",
      "text/plain": [
       "<Figure size 640x480 with 1 Axes>"
      ]
     },
     "metadata": {},
     "output_type": "display_data"
    }
   ],
   "source": [
    "image = Image.open(BytesIO(image_data))\n",
    "plt.imshow(image)"
   ]
  },
  {
   "cell_type": "code",
   "execution_count": null,
   "id": "e3592abf",
   "metadata": {},
   "outputs": [],
   "source": []
  }
 ],
 "metadata": {
  "kernelspec": {
   "display_name": "ml",
   "language": "python",
   "name": "python3"
  },
  "language_info": {
   "codemirror_mode": {
    "name": "ipython",
    "version": 3
   },
   "file_extension": ".py",
   "mimetype": "text/x-python",
   "name": "python",
   "nbconvert_exporter": "python",
   "pygments_lexer": "ipython3",
   "version": "3.11.9"
  }
 },
 "nbformat": 4,
 "nbformat_minor": 5
}
